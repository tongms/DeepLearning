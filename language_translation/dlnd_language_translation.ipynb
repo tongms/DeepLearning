{
 "cells": [
  {
   "cell_type": "markdown",
   "metadata": {
    "collapsed": true
   },
   "source": [
    "# Language Translation\n",
    "In this project, you’re going to take a peek into the realm of neural network machine translation.  You’ll be training a sequence to sequence model on a dataset of English and French sentences that can translate new sentences from English to French.\n",
    "## Get the Data\n",
    "Since translating the whole language of English to French will take lots of time to train, we have provided you with a small portion of the English corpus."
   ]
  },
  {
   "cell_type": "code",
   "execution_count": 1,
   "metadata": {
    "collapsed": true
   },
   "outputs": [],
   "source": [
    "\"\"\"\n",
    "DON'T MODIFY ANYTHING IN THIS CELL\n",
    "\"\"\"\n",
    "import helper\n",
    "import problem_unittests as tests\n",
    "\n",
    "source_path = 'data/small_vocab_en'\n",
    "target_path = 'data/small_vocab_fr'\n",
    "source_text = helper.load_data(source_path)\n",
    "target_text = helper.load_data(target_path)"
   ]
  },
  {
   "cell_type": "markdown",
   "metadata": {},
   "source": [
    "## Explore the Data\n",
    "Play around with view_sentence_range to view different parts of the data."
   ]
  },
  {
   "cell_type": "code",
   "execution_count": 2,
   "metadata": {
    "collapsed": false
   },
   "outputs": [
    {
     "name": "stdout",
     "output_type": "stream",
     "text": [
      "Dataset Stats\n",
      "Roughly the number of unique words: 227\n",
      "Number of sentences: 137861\n",
      "Average number of words in a sentence: 13.225277634719028\n",
      "\n",
      "English sentences 0 to 10:\n",
      "new jersey is sometimes quiet during autumn , and it is snowy in april .\n",
      "the united states is usually chilly during july , and it is usually freezing in november .\n",
      "california is usually quiet during march , and it is usually hot in june .\n",
      "the united states is sometimes mild during june , and it is cold in september .\n",
      "your least liked fruit is the grape , but my least liked is the apple .\n",
      "his favorite fruit is the orange , but my favorite is the grape .\n",
      "paris is relaxing during december , but it is usually chilly in july .\n",
      "new jersey is busy during spring , and it is never hot in march .\n",
      "our least liked fruit is the lemon , but my least liked is the grape .\n",
      "the united states is sometimes busy during january , and it is sometimes warm in november .\n",
      "\n",
      "French sentences 0 to 10:\n",
      "new jersey est parfois calme pendant l' automne , et il est neigeux en avril .\n",
      "les états-unis est généralement froid en juillet , et il gèle habituellement en novembre .\n",
      "california est généralement calme en mars , et il est généralement chaud en juin .\n",
      "les états-unis est parfois légère en juin , et il fait froid en septembre .\n",
      "votre moins aimé fruit est le raisin , mais mon moins aimé est la pomme .\n",
      "son fruit préféré est l'orange , mais mon préféré est le raisin .\n",
      "paris est relaxant en décembre , mais il est généralement froid en juillet .\n",
      "new jersey est occupé au printemps , et il est jamais chaude en mars .\n",
      "notre fruit est moins aimé le citron , mais mon moins aimé est le raisin .\n",
      "les états-unis est parfois occupé en janvier , et il est parfois chaud en novembre .\n"
     ]
    }
   ],
   "source": [
    "view_sentence_range = (0, 10)\n",
    "\n",
    "\"\"\"\n",
    "DON'T MODIFY ANYTHING IN THIS CELL\n",
    "\"\"\"\n",
    "import numpy as np\n",
    "\n",
    "print('Dataset Stats')\n",
    "print('Roughly the number of unique words: {}'.format(len({word: None for word in source_text.split()})))\n",
    "\n",
    "sentences = source_text.split('\\n')\n",
    "word_counts = [len(sentence.split()) for sentence in sentences]\n",
    "print('Number of sentences: {}'.format(len(sentences)))\n",
    "print('Average number of words in a sentence: {}'.format(np.average(word_counts)))\n",
    "\n",
    "print()\n",
    "print('English sentences {} to {}:'.format(*view_sentence_range))\n",
    "print('\\n'.join(source_text.split('\\n')[view_sentence_range[0]:view_sentence_range[1]]))\n",
    "print()\n",
    "print('French sentences {} to {}:'.format(*view_sentence_range))\n",
    "print('\\n'.join(target_text.split('\\n')[view_sentence_range[0]:view_sentence_range[1]]))"
   ]
  },
  {
   "cell_type": "markdown",
   "metadata": {},
   "source": [
    "## Implement Preprocessing Function\n",
    "### Text to Word Ids\n",
    "As you did with other RNNs, you must turn the text into a number so the computer can understand it. In the function `text_to_ids()`, you'll turn `source_text` and `target_text` from words to ids.  However, you need to add the `<EOS>` word id at the end of `target_text`.  This will help the neural network predict when the sentence should end.\n",
    "\n",
    "You can get the `<EOS>` word id by doing:\n",
    "```python\n",
    "target_vocab_to_int['<EOS>']\n",
    "```\n",
    "You can get other word ids using `source_vocab_to_int` and `target_vocab_to_int`."
   ]
  },
  {
   "cell_type": "code",
   "execution_count": 3,
   "metadata": {
    "collapsed": false
   },
   "outputs": [
    {
     "name": "stdout",
     "output_type": "stream",
     "text": [
      "Tests Passed\n"
     ]
    }
   ],
   "source": [
    "def text_to_ids(source_text, target_text, source_vocab_to_int, target_vocab_to_int):\n",
    "    \"\"\"\n",
    "    Convert source and target text to proper word ids\n",
    "    :param source_text: String that contains all the source text.\n",
    "    :param target_text: String that contains all the target text.\n",
    "    :param source_vocab_to_int: Dictionary to go from the source words to an id\n",
    "    :param target_vocab_to_int: Dictionary to go from the target words to an id\n",
    "    :return: A tuple of lists (source_id_text, target_id_text)\n",
    "    \"\"\"\n",
    "    source_id_text = []\n",
    "    for sentence in source_text.split('\\n'):\n",
    "        source_id_text.append([source_vocab_to_int[word] if word in source_vocab_to_int.keys() else source_vocab_to_int['<UNK>'] for word in sentence.split()])\n",
    "        \n",
    "    target_id_text = []\n",
    "    for sentence in target_text.split('\\n'):\n",
    "        sentence_list = sentence.split()\n",
    "        sentence_list.append('<EOS>')\n",
    "        target_id_text.append([target_vocab_to_int[word] if word in target_vocab_to_int.keys() else target_vocab_to_int['<UNK>'] for word in sentence_list])\n",
    "\n",
    "    return source_id_text, target_id_text\n",
    "\n",
    "\"\"\"\n",
    "DON'T MODIFY ANYTHING IN THIS CELL THAT IS BELOW THIS LINE\n",
    "\"\"\"\n",
    "tests.test_text_to_ids(text_to_ids)"
   ]
  },
  {
   "cell_type": "markdown",
   "metadata": {},
   "source": [
    "### Preprocess all the data and save it\n",
    "Running the code cell below will preprocess all the data and save it to file."
   ]
  },
  {
   "cell_type": "code",
   "execution_count": 4,
   "metadata": {
    "collapsed": true
   },
   "outputs": [],
   "source": [
    "\"\"\"\n",
    "DON'T MODIFY ANYTHING IN THIS CELL\n",
    "\"\"\"\n",
    "helper.preprocess_and_save_data(source_path, target_path, text_to_ids)"
   ]
  },
  {
   "cell_type": "markdown",
   "metadata": {},
   "source": [
    "# Check Point\n",
    "This is your first checkpoint. If you ever decide to come back to this notebook or have to restart the notebook, you can start from here. The preprocessed data has been saved to disk."
   ]
  },
  {
   "cell_type": "code",
   "execution_count": 5,
   "metadata": {
    "collapsed": true
   },
   "outputs": [],
   "source": [
    "\"\"\"\n",
    "DON'T MODIFY ANYTHING IN THIS CELL\n",
    "\"\"\"\n",
    "import numpy as np\n",
    "import helper\n",
    "import problem_unittests as tests\n",
    "\n",
    "(source_int_text, target_int_text), (source_vocab_to_int, target_vocab_to_int), _ = helper.load_preprocess()"
   ]
  },
  {
   "cell_type": "markdown",
   "metadata": {},
   "source": [
    "### Check the Version of TensorFlow and Access to GPU\n",
    "This will check to make sure you have the correct version of TensorFlow and access to a GPU"
   ]
  },
  {
   "cell_type": "code",
   "execution_count": 6,
   "metadata": {
    "collapsed": false
   },
   "outputs": [
    {
     "name": "stdout",
     "output_type": "stream",
     "text": [
      "TensorFlow Version: 1.3.0\n"
     ]
    },
    {
     "name": "stderr",
     "output_type": "stream",
     "text": [
      "C:\\Users\\toxia\\AppData\\Local\\Continuum\\Anaconda3\\lib\\site-packages\\ipykernel_launcher.py:15: UserWarning: No GPU found. Please use a GPU to train your neural network.\n",
      "  from ipykernel import kernelapp as app\n"
     ]
    }
   ],
   "source": [
    "\"\"\"\n",
    "DON'T MODIFY ANYTHING IN THIS CELL\n",
    "\"\"\"\n",
    "from distutils.version import LooseVersion\n",
    "import warnings\n",
    "import tensorflow as tf\n",
    "from tensorflow.python.layers.core import Dense\n",
    "\n",
    "# Check TensorFlow Version\n",
    "assert LooseVersion(tf.__version__) >= LooseVersion('1.1'), 'Please use TensorFlow version 1.1 or newer'\n",
    "print('TensorFlow Version: {}'.format(tf.__version__))\n",
    "\n",
    "# Check for a GPU\n",
    "if not tf.test.gpu_device_name():\n",
    "    warnings.warn('No GPU found. Please use a GPU to train your neural network.')\n",
    "else:\n",
    "    print('Default GPU Device: {}'.format(tf.test.gpu_device_name()))"
   ]
  },
  {
   "cell_type": "markdown",
   "metadata": {},
   "source": [
    "## Build the Neural Network\n",
    "You'll build the components necessary to build a Sequence-to-Sequence model by implementing the following functions below:\n",
    "- `model_inputs`\n",
    "- `process_decoder_input`\n",
    "- `encoding_layer`\n",
    "- `decoding_layer_train`\n",
    "- `decoding_layer_infer`\n",
    "- `decoding_layer`\n",
    "- `seq2seq_model`\n",
    "\n",
    "### Input\n",
    "Implement the `model_inputs()` function to create TF Placeholders for the Neural Network. It should create the following placeholders:\n",
    "\n",
    "- Input text placeholder named \"input\" using the TF Placeholder name parameter with rank 2.\n",
    "- Targets placeholder with rank 2.\n",
    "- Learning rate placeholder with rank 0.\n",
    "- Keep probability placeholder named \"keep_prob\" using the TF Placeholder name parameter with rank 0.\n",
    "- Target sequence length placeholder named \"target_sequence_length\" with rank 1\n",
    "- Max target sequence length tensor named \"max_target_len\" getting its value from applying tf.reduce_max on the target_sequence_length placeholder. Rank 0.\n",
    "- Source sequence length placeholder named \"source_sequence_length\" with rank 1\n",
    "\n",
    "Return the placeholders in the following the tuple (input, targets, learning rate, keep probability, target sequence length, max target sequence length, source sequence length)"
   ]
  },
  {
   "cell_type": "code",
   "execution_count": 7,
   "metadata": {
    "collapsed": false
   },
   "outputs": [
    {
     "name": "stdout",
     "output_type": "stream",
     "text": [
      "ERROR:tensorflow:==================================\n",
      "Object was never used (type <class 'tensorflow.python.framework.ops.Operation'>):\n",
      "<tf.Operation 'assert_rank_2/Assert/Assert' type=Assert>\n",
      "If you want to mark it as used call its \"mark_used()\" method.\n",
      "It was originally created here:\n",
      "['File \"C:\\\\Users\\\\toxia\\\\AppData\\\\Local\\\\Continuum\\\\Anaconda3\\\\lib\\\\runpy.py\", line 193, in _run_module_as_main\\n    \"__main__\", mod_spec)', 'File \"C:\\\\Users\\\\toxia\\\\AppData\\\\Local\\\\Continuum\\\\Anaconda3\\\\lib\\\\runpy.py\", line 85, in _run_code\\n    exec(code, run_globals)', 'File \"C:\\\\Users\\\\toxia\\\\AppData\\\\Local\\\\Continuum\\\\Anaconda3\\\\lib\\\\site-packages\\\\ipykernel_launcher.py\", line 16, in <module>\\n    app.launch_new_instance()', 'File \"C:\\\\Users\\\\toxia\\\\AppData\\\\Local\\\\Continuum\\\\Anaconda3\\\\lib\\\\site-packages\\\\traitlets\\\\config\\\\application.py\", line 658, in launch_instance\\n    app.start()', 'File \"C:\\\\Users\\\\toxia\\\\AppData\\\\Local\\\\Continuum\\\\Anaconda3\\\\lib\\\\site-packages\\\\ipykernel\\\\kernelapp.py\", line 477, in start\\n    ioloop.IOLoop.instance().start()', 'File \"C:\\\\Users\\\\toxia\\\\AppData\\\\Local\\\\Continuum\\\\Anaconda3\\\\lib\\\\site-packages\\\\zmq\\\\eventloop\\\\ioloop.py\", line 177, in start\\n    super(ZMQIOLoop, self).start()', 'File \"C:\\\\Users\\\\toxia\\\\AppData\\\\Local\\\\Continuum\\\\Anaconda3\\\\lib\\\\site-packages\\\\tornado\\\\ioloop.py\", line 888, in start\\n    handler_func(fd_obj, events)', 'File \"C:\\\\Users\\\\toxia\\\\AppData\\\\Local\\\\Continuum\\\\Anaconda3\\\\lib\\\\site-packages\\\\tornado\\\\stack_context.py\", line 277, in null_wrapper\\n    return fn(*args, **kwargs)', 'File \"C:\\\\Users\\\\toxia\\\\AppData\\\\Local\\\\Continuum\\\\Anaconda3\\\\lib\\\\site-packages\\\\zmq\\\\eventloop\\\\zmqstream.py\", line 440, in _handle_events\\n    self._handle_recv()', 'File \"C:\\\\Users\\\\toxia\\\\AppData\\\\Local\\\\Continuum\\\\Anaconda3\\\\lib\\\\site-packages\\\\zmq\\\\eventloop\\\\zmqstream.py\", line 472, in _handle_recv\\n    self._run_callback(callback, msg)', 'File \"C:\\\\Users\\\\toxia\\\\AppData\\\\Local\\\\Continuum\\\\Anaconda3\\\\lib\\\\site-packages\\\\zmq\\\\eventloop\\\\zmqstream.py\", line 414, in _run_callback\\n    callback(*args, **kwargs)', 'File \"C:\\\\Users\\\\toxia\\\\AppData\\\\Local\\\\Continuum\\\\Anaconda3\\\\lib\\\\site-packages\\\\tornado\\\\stack_context.py\", line 277, in null_wrapper\\n    return fn(*args, **kwargs)', 'File \"C:\\\\Users\\\\toxia\\\\AppData\\\\Local\\\\Continuum\\\\Anaconda3\\\\lib\\\\site-packages\\\\ipykernel\\\\kernelbase.py\", line 283, in dispatcher\\n    return self.dispatch_shell(stream, msg)', 'File \"C:\\\\Users\\\\toxia\\\\AppData\\\\Local\\\\Continuum\\\\Anaconda3\\\\lib\\\\site-packages\\\\ipykernel\\\\kernelbase.py\", line 235, in dispatch_shell\\n    handler(stream, idents, msg)', 'File \"C:\\\\Users\\\\toxia\\\\AppData\\\\Local\\\\Continuum\\\\Anaconda3\\\\lib\\\\site-packages\\\\ipykernel\\\\kernelbase.py\", line 399, in execute_request\\n    user_expressions, allow_stdin)', 'File \"C:\\\\Users\\\\toxia\\\\AppData\\\\Local\\\\Continuum\\\\Anaconda3\\\\lib\\\\site-packages\\\\ipykernel\\\\ipkernel.py\", line 196, in do_execute\\n    res = shell.run_cell(code, store_history=store_history, silent=silent)', 'File \"C:\\\\Users\\\\toxia\\\\AppData\\\\Local\\\\Continuum\\\\Anaconda3\\\\lib\\\\site-packages\\\\ipykernel\\\\zmqshell.py\", line 533, in run_cell\\n    return super(ZMQInteractiveShell, self).run_cell(*args, **kwargs)', 'File \"C:\\\\Users\\\\toxia\\\\AppData\\\\Local\\\\Continuum\\\\Anaconda3\\\\lib\\\\site-packages\\\\IPython\\\\core\\\\interactiveshell.py\", line 2698, in run_cell\\n    interactivity=interactivity, compiler=compiler, result=result)', 'File \"C:\\\\Users\\\\toxia\\\\AppData\\\\Local\\\\Continuum\\\\Anaconda3\\\\lib\\\\site-packages\\\\IPython\\\\core\\\\interactiveshell.py\", line 2808, in run_ast_nodes\\n    if self.run_code(code, result):', 'File \"C:\\\\Users\\\\toxia\\\\AppData\\\\Local\\\\Continuum\\\\Anaconda3\\\\lib\\\\site-packages\\\\IPython\\\\core\\\\interactiveshell.py\", line 2862, in run_code\\n    exec(code_obj, self.user_global_ns, self.user_ns)', 'File \"<ipython-input-7-7e12dd61fe97>\", line 21, in <module>\\n    tests.test_model_inputs(model_inputs)', 'File \"C:\\\\Users\\\\toxia\\\\OneDrive\\\\Study\\\\DeepLearning\\\\Udacity\\\\DeepLearning\\\\language_translation\\\\problem_unittests.py\", line 106, in test_model_inputs\\n    assert tf.assert_rank(lr, 0, message=\\'Learning Rate has wrong rank\\')', 'File \"C:\\\\Users\\\\toxia\\\\AppData\\\\Local\\\\Continuum\\\\Anaconda3\\\\lib\\\\site-packages\\\\tensorflow\\\\python\\\\ops\\\\check_ops.py\", line 617, in assert_rank\\n    dynamic_condition, data, summarize)', 'File \"C:\\\\Users\\\\toxia\\\\AppData\\\\Local\\\\Continuum\\\\Anaconda3\\\\lib\\\\site-packages\\\\tensorflow\\\\python\\\\ops\\\\check_ops.py\", line 571, in _assert_rank_condition\\n    return control_flow_ops.Assert(condition, data, summarize=summarize)', 'File \"C:\\\\Users\\\\toxia\\\\AppData\\\\Local\\\\Continuum\\\\Anaconda3\\\\lib\\\\site-packages\\\\tensorflow\\\\python\\\\util\\\\tf_should_use.py\", line 175, in wrapped\\n    return _add_should_use_warning(fn(*args, **kwargs))', 'File \"C:\\\\Users\\\\toxia\\\\AppData\\\\Local\\\\Continuum\\\\Anaconda3\\\\lib\\\\site-packages\\\\tensorflow\\\\python\\\\util\\\\tf_should_use.py\", line 144, in _add_should_use_warning\\n    wrapped = TFShouldUseWarningWrapper(x)', 'File \"C:\\\\Users\\\\toxia\\\\AppData\\\\Local\\\\Continuum\\\\Anaconda3\\\\lib\\\\site-packages\\\\tensorflow\\\\python\\\\util\\\\tf_should_use.py\", line 101, in __init__\\n    stack = [s.strip() for s in traceback.format_stack()]']\n",
      "==================================\n",
      "ERROR:tensorflow:==================================\n",
      "Object was never used (type <class 'tensorflow.python.framework.ops.Operation'>):\n",
      "<tf.Operation 'assert_rank_3/Assert/Assert' type=Assert>\n",
      "If you want to mark it as used call its \"mark_used()\" method.\n",
      "It was originally created here:\n",
      "['File \"C:\\\\Users\\\\toxia\\\\AppData\\\\Local\\\\Continuum\\\\Anaconda3\\\\lib\\\\runpy.py\", line 193, in _run_module_as_main\\n    \"__main__\", mod_spec)', 'File \"C:\\\\Users\\\\toxia\\\\AppData\\\\Local\\\\Continuum\\\\Anaconda3\\\\lib\\\\runpy.py\", line 85, in _run_code\\n    exec(code, run_globals)', 'File \"C:\\\\Users\\\\toxia\\\\AppData\\\\Local\\\\Continuum\\\\Anaconda3\\\\lib\\\\site-packages\\\\ipykernel_launcher.py\", line 16, in <module>\\n    app.launch_new_instance()', 'File \"C:\\\\Users\\\\toxia\\\\AppData\\\\Local\\\\Continuum\\\\Anaconda3\\\\lib\\\\site-packages\\\\traitlets\\\\config\\\\application.py\", line 658, in launch_instance\\n    app.start()', 'File \"C:\\\\Users\\\\toxia\\\\AppData\\\\Local\\\\Continuum\\\\Anaconda3\\\\lib\\\\site-packages\\\\ipykernel\\\\kernelapp.py\", line 477, in start\\n    ioloop.IOLoop.instance().start()', 'File \"C:\\\\Users\\\\toxia\\\\AppData\\\\Local\\\\Continuum\\\\Anaconda3\\\\lib\\\\site-packages\\\\zmq\\\\eventloop\\\\ioloop.py\", line 177, in start\\n    super(ZMQIOLoop, self).start()', 'File \"C:\\\\Users\\\\toxia\\\\AppData\\\\Local\\\\Continuum\\\\Anaconda3\\\\lib\\\\site-packages\\\\tornado\\\\ioloop.py\", line 888, in start\\n    handler_func(fd_obj, events)', 'File \"C:\\\\Users\\\\toxia\\\\AppData\\\\Local\\\\Continuum\\\\Anaconda3\\\\lib\\\\site-packages\\\\tornado\\\\stack_context.py\", line 277, in null_wrapper\\n    return fn(*args, **kwargs)', 'File \"C:\\\\Users\\\\toxia\\\\AppData\\\\Local\\\\Continuum\\\\Anaconda3\\\\lib\\\\site-packages\\\\zmq\\\\eventloop\\\\zmqstream.py\", line 440, in _handle_events\\n    self._handle_recv()', 'File \"C:\\\\Users\\\\toxia\\\\AppData\\\\Local\\\\Continuum\\\\Anaconda3\\\\lib\\\\site-packages\\\\zmq\\\\eventloop\\\\zmqstream.py\", line 472, in _handle_recv\\n    self._run_callback(callback, msg)', 'File \"C:\\\\Users\\\\toxia\\\\AppData\\\\Local\\\\Continuum\\\\Anaconda3\\\\lib\\\\site-packages\\\\zmq\\\\eventloop\\\\zmqstream.py\", line 414, in _run_callback\\n    callback(*args, **kwargs)', 'File \"C:\\\\Users\\\\toxia\\\\AppData\\\\Local\\\\Continuum\\\\Anaconda3\\\\lib\\\\site-packages\\\\tornado\\\\stack_context.py\", line 277, in null_wrapper\\n    return fn(*args, **kwargs)', 'File \"C:\\\\Users\\\\toxia\\\\AppData\\\\Local\\\\Continuum\\\\Anaconda3\\\\lib\\\\site-packages\\\\ipykernel\\\\kernelbase.py\", line 283, in dispatcher\\n    return self.dispatch_shell(stream, msg)', 'File \"C:\\\\Users\\\\toxia\\\\AppData\\\\Local\\\\Continuum\\\\Anaconda3\\\\lib\\\\site-packages\\\\ipykernel\\\\kernelbase.py\", line 235, in dispatch_shell\\n    handler(stream, idents, msg)', 'File \"C:\\\\Users\\\\toxia\\\\AppData\\\\Local\\\\Continuum\\\\Anaconda3\\\\lib\\\\site-packages\\\\ipykernel\\\\kernelbase.py\", line 399, in execute_request\\n    user_expressions, allow_stdin)', 'File \"C:\\\\Users\\\\toxia\\\\AppData\\\\Local\\\\Continuum\\\\Anaconda3\\\\lib\\\\site-packages\\\\ipykernel\\\\ipkernel.py\", line 196, in do_execute\\n    res = shell.run_cell(code, store_history=store_history, silent=silent)', 'File \"C:\\\\Users\\\\toxia\\\\AppData\\\\Local\\\\Continuum\\\\Anaconda3\\\\lib\\\\site-packages\\\\ipykernel\\\\zmqshell.py\", line 533, in run_cell\\n    return super(ZMQInteractiveShell, self).run_cell(*args, **kwargs)', 'File \"C:\\\\Users\\\\toxia\\\\AppData\\\\Local\\\\Continuum\\\\Anaconda3\\\\lib\\\\site-packages\\\\IPython\\\\core\\\\interactiveshell.py\", line 2698, in run_cell\\n    interactivity=interactivity, compiler=compiler, result=result)', 'File \"C:\\\\Users\\\\toxia\\\\AppData\\\\Local\\\\Continuum\\\\Anaconda3\\\\lib\\\\site-packages\\\\IPython\\\\core\\\\interactiveshell.py\", line 2808, in run_ast_nodes\\n    if self.run_code(code, result):', 'File \"C:\\\\Users\\\\toxia\\\\AppData\\\\Local\\\\Continuum\\\\Anaconda3\\\\lib\\\\site-packages\\\\IPython\\\\core\\\\interactiveshell.py\", line 2862, in run_code\\n    exec(code_obj, self.user_global_ns, self.user_ns)', 'File \"<ipython-input-7-7e12dd61fe97>\", line 21, in <module>\\n    tests.test_model_inputs(model_inputs)', 'File \"C:\\\\Users\\\\toxia\\\\OneDrive\\\\Study\\\\DeepLearning\\\\Udacity\\\\DeepLearning\\\\language_translation\\\\problem_unittests.py\", line 107, in test_model_inputs\\n    assert tf.assert_rank(keep_prob, 0, message=\\'Keep Probability has wrong rank\\')', 'File \"C:\\\\Users\\\\toxia\\\\AppData\\\\Local\\\\Continuum\\\\Anaconda3\\\\lib\\\\site-packages\\\\tensorflow\\\\python\\\\ops\\\\check_ops.py\", line 617, in assert_rank\\n    dynamic_condition, data, summarize)', 'File \"C:\\\\Users\\\\toxia\\\\AppData\\\\Local\\\\Continuum\\\\Anaconda3\\\\lib\\\\site-packages\\\\tensorflow\\\\python\\\\ops\\\\check_ops.py\", line 571, in _assert_rank_condition\\n    return control_flow_ops.Assert(condition, data, summarize=summarize)', 'File \"C:\\\\Users\\\\toxia\\\\AppData\\\\Local\\\\Continuum\\\\Anaconda3\\\\lib\\\\site-packages\\\\tensorflow\\\\python\\\\util\\\\tf_should_use.py\", line 175, in wrapped\\n    return _add_should_use_warning(fn(*args, **kwargs))', 'File \"C:\\\\Users\\\\toxia\\\\AppData\\\\Local\\\\Continuum\\\\Anaconda3\\\\lib\\\\site-packages\\\\tensorflow\\\\python\\\\util\\\\tf_should_use.py\", line 144, in _add_should_use_warning\\n    wrapped = TFShouldUseWarningWrapper(x)', 'File \"C:\\\\Users\\\\toxia\\\\AppData\\\\Local\\\\Continuum\\\\Anaconda3\\\\lib\\\\site-packages\\\\tensorflow\\\\python\\\\util\\\\tf_should_use.py\", line 101, in __init__\\n    stack = [s.strip() for s in traceback.format_stack()]']\n",
      "==================================\n",
      "Tests Passed\n"
     ]
    }
   ],
   "source": [
    "def model_inputs():\n",
    "    \"\"\"\n",
    "    Create TF Placeholders for input, targets, learning rate, and lengths of source and target sequences.\n",
    "    :return: Tuple (input, targets, learning rate, keep probability, target sequence length,\n",
    "    max target sequence length, source sequence length)\n",
    "    \"\"\"\n",
    "    # TODO: Implement Function\n",
    "    inputs = tf.placeholder(tf.int32, [None, None], name = 'input')\n",
    "    targets = tf.placeholder(tf.int32, [None, None], name = 'targets')\n",
    "    learning_rate = tf.placeholder(tf.float32, name = 'learning_rate')\n",
    "    keep_probability = tf.placeholder(tf.float32, name = 'keep_prob')\n",
    "    target_sequence_length = tf.placeholder(tf.int32, [None], name = 'target_sequence_length')\n",
    "    max_target_len = tf.reduce_max(target_sequence_length, name = 'max_target_len')\n",
    "    source_sequence_length = tf.placeholder(tf.int32, [None], name = 'source_sequence_length')\n",
    "    return inputs, targets, learning_rate, keep_probability, target_sequence_length, max_target_len, source_sequence_length\n",
    "\n",
    "\n",
    "\"\"\"\n",
    "DON'T MODIFY ANYTHING IN THIS CELL THAT IS BELOW THIS LINE\n",
    "\"\"\"\n",
    "tests.test_model_inputs(model_inputs)"
   ]
  },
  {
   "cell_type": "markdown",
   "metadata": {},
   "source": [
    "### Process Decoder Input\n",
    "Implement `process_decoder_input` by removing the last word id from each batch in `target_data` and concat the GO ID to the begining of each batch."
   ]
  },
  {
   "cell_type": "code",
   "execution_count": 8,
   "metadata": {
    "collapsed": false
   },
   "outputs": [
    {
     "name": "stdout",
     "output_type": "stream",
     "text": [
      "Tests Passed\n"
     ]
    }
   ],
   "source": [
    "def process_decoder_input(target_data, target_vocab_to_int, batch_size):\n",
    "    \"\"\"\n",
    "    Preprocess target data for encoding\n",
    "    :param target_data: Target Placehoder\n",
    "    :param target_vocab_to_int: Dictionary to go from the target words to an id\n",
    "    :param batch_size: Batch Size\n",
    "    :return: Preprocessed target data\n",
    "    \"\"\"\n",
    "    # TODO: Implement Function\n",
    "    target_slice = tf.strided_slice(target_data, [0, 0], [batch_size, -1], [1, 1])\n",
    "    go_id = tf.fill([batch_size, 1], target_vocab_to_int['<GO>'])\n",
    "    \n",
    "    return tf.concat([go_id, target_slice], 1)\n",
    "\n",
    "\"\"\"\n",
    "DON'T MODIFY ANYTHING IN THIS CELL THAT IS BELOW THIS LINE\n",
    "\"\"\"\n",
    "tests.test_process_encoding_input(process_decoder_input)"
   ]
  },
  {
   "cell_type": "markdown",
   "metadata": {},
   "source": [
    "### Encoding\n",
    "Implement `encoding_layer()` to create a Encoder RNN layer:\n",
    " * Embed the encoder input using [`tf.contrib.layers.embed_sequence`](https://www.tensorflow.org/api_docs/python/tf/contrib/layers/embed_sequence)\n",
    " * Construct a [stacked](https://github.com/tensorflow/tensorflow/blob/6947f65a374ebf29e74bb71e36fd82760056d82c/tensorflow/docs_src/tutorials/recurrent.md#stacking-multiple-lstms) [`tf.contrib.rnn.LSTMCell`](https://www.tensorflow.org/api_docs/python/tf/contrib/rnn/LSTMCell) wrapped in a [`tf.contrib.rnn.DropoutWrapper`](https://www.tensorflow.org/api_docs/python/tf/contrib/rnn/DropoutWrapper)\n",
    " * Pass cell and embedded input to [`tf.nn.dynamic_rnn()`](https://www.tensorflow.org/api_docs/python/tf/nn/dynamic_rnn)"
   ]
  },
  {
   "cell_type": "code",
   "execution_count": 9,
   "metadata": {
    "collapsed": false,
    "scrolled": false
   },
   "outputs": [
    {
     "name": "stdout",
     "output_type": "stream",
     "text": [
      "Tests Passed\n"
     ]
    }
   ],
   "source": [
    "from imp import reload\n",
    "reload(tests)\n",
    "\n",
    "def encoding_layer(rnn_inputs, rnn_size, num_layers, keep_prob, \n",
    "                   source_sequence_length, source_vocab_size, \n",
    "                   encoding_embedding_size):\n",
    "    \"\"\"\n",
    "    Create encoding layer\n",
    "    :param rnn_inputs: Inputs for the RNN\n",
    "    :param rnn_size: RNN Size\n",
    "    :param num_layers: Number of layers\n",
    "    :param keep_prob: Dropout keep probability\n",
    "    :param source_sequence_length: a list of the lengths of each sequence in the batch\n",
    "    :param source_vocab_size: vocabulary size of source data\n",
    "    :param encoding_embedding_size: embedding size of source data\n",
    "    :return: tuple (RNN output, RNN state)\n",
    "    \"\"\"\n",
    "    # TODO: Implement Function\n",
    "\n",
    "    embd = tf.contrib.layers.embed_sequence(rnn_inputs, source_vocab_size, encoding_embedding_size)\n",
    "    stacked_lstm = tf.contrib.rnn.MultiRNNCell([tf.contrib.rnn.DropoutWrapper(tf.contrib.rnn.LSTMCell(rnn_size), state_keep_prob = keep_prob) for _ in range(num_layers)])\n",
    "    outputs, final_state = tf.nn.dynamic_rnn(stacked_lstm, embd, sequence_length = source_sequence_length, dtype = tf.float32)\n",
    "    \n",
    "    return outputs, final_state\n",
    "\n",
    "\"\"\"\n",
    "DON'T MODIFY ANYTHING IN THIS CELL THAT IS BELOW THIS LINE\n",
    "\"\"\"\n",
    "tests.test_encoding_layer(encoding_layer)"
   ]
  },
  {
   "cell_type": "markdown",
   "metadata": {},
   "source": [
    "### Decoding - Training\n",
    "Create a training decoding layer:\n",
    "* Create a [`tf.contrib.seq2seq.TrainingHelper`](https://www.tensorflow.org/api_docs/python/tf/contrib/seq2seq/TrainingHelper) \n",
    "* Create a [`tf.contrib.seq2seq.BasicDecoder`](https://www.tensorflow.org/api_docs/python/tf/contrib/seq2seq/BasicDecoder)\n",
    "* Obtain the decoder outputs from [`tf.contrib.seq2seq.dynamic_decode`](https://www.tensorflow.org/api_docs/python/tf/contrib/seq2seq/dynamic_decode)"
   ]
  },
  {
   "cell_type": "code",
   "execution_count": 10,
   "metadata": {
    "collapsed": false
   },
   "outputs": [
    {
     "name": "stdout",
     "output_type": "stream",
     "text": [
      "Tests Passed\n"
     ]
    }
   ],
   "source": [
    "\n",
    "def decoding_layer_train(encoder_state, dec_cell, dec_embed_input, \n",
    "                         target_sequence_length, max_summary_length, \n",
    "                         output_layer, keep_prob):\n",
    "    \"\"\"\n",
    "    Create a decoding layer for training\n",
    "    :param encoder_state: Encoder State\n",
    "    :param dec_cell: Decoder RNN Cell\n",
    "    :param dec_embed_input: Decoder embedded input\n",
    "    :param target_sequence_length: The lengths of each sequence in the target batch\n",
    "    :param max_summary_length: The length of the longest sequence in the batch\n",
    "    :param output_layer: Function to apply the output layer\n",
    "    :param keep_prob: Dropout keep probability\n",
    "    :return: BasicDecoderOutput containing training logits and sample_id\n",
    "    \"\"\"\n",
    "    # TODO: Implement Function\n",
    "    training_helper = tf.contrib.seq2seq.TrainingHelper(dec_embed_input, target_sequence_length, name = \"training_helper\")\n",
    "    dec_cell_dropout = tf.contrib.rnn.DropoutWrapper(dec_cell, state_keep_prob = keep_prob)\n",
    "    basic_decoder = tf.contrib.seq2seq.BasicDecoder(cell = dec_cell_dropout, helper = training_helper, initial_state = encoder_state, output_layer = output_layer)      \n",
    "    final_outputs, final_state, final_sequence_length = tf.contrib.seq2seq.dynamic_decode(decoder = basic_decoder, maximum_iterations = max_summary_length)\n",
    "    return final_outputs\n",
    "\n",
    "\n",
    "\"\"\"\n",
    "DON'T MODIFY ANYTHING IN THIS CELL THAT IS BELOW THIS LINE\n",
    "\"\"\"\n",
    "tests.test_decoding_layer_train(decoding_layer_train)"
   ]
  },
  {
   "cell_type": "markdown",
   "metadata": {},
   "source": [
    "### Decoding - Inference\n",
    "Create inference decoder:\n",
    "* Create a [`tf.contrib.seq2seq.GreedyEmbeddingHelper`](https://www.tensorflow.org/api_docs/python/tf/contrib/seq2seq/GreedyEmbeddingHelper)\n",
    "* Create a [`tf.contrib.seq2seq.BasicDecoder`](https://www.tensorflow.org/api_docs/python/tf/contrib/seq2seq/BasicDecoder)\n",
    "* Obtain the decoder outputs from [`tf.contrib.seq2seq.dynamic_decode`](https://www.tensorflow.org/api_docs/python/tf/contrib/seq2seq/dynamic_decode)"
   ]
  },
  {
   "cell_type": "code",
   "execution_count": 11,
   "metadata": {
    "collapsed": false,
    "scrolled": true
   },
   "outputs": [
    {
     "name": "stdout",
     "output_type": "stream",
     "text": [
      "Tests Passed\n"
     ]
    }
   ],
   "source": [
    "def decoding_layer_infer(encoder_state, dec_cell, dec_embeddings, start_of_sequence_id,\n",
    "                         end_of_sequence_id, max_target_sequence_length,\n",
    "                         vocab_size, output_layer, batch_size, keep_prob):\n",
    "    \"\"\"\n",
    "    Create a decoding layer for inference\n",
    "    :param encoder_state: Encoder state\n",
    "    :param dec_cell: Decoder RNN Cell\n",
    "    :param dec_embeddings: Decoder embeddings\n",
    "    :param start_of_sequence_id: GO ID\n",
    "    :param end_of_sequence_id: EOS Id\n",
    "    :param max_target_sequence_length: Maximum length of target sequences\n",
    "    :param vocab_size: Size of decoder/target vocabulary\n",
    "    :param decoding_scope: TenorFlow Variable Scope for decoding\n",
    "    :param output_layer: Function to apply the output layer\n",
    "    :param batch_size: Batch size\n",
    "    :param keep_prob: Dropout keep probability\n",
    "    :return: BasicDecoderOutput containing inference logits and sample_id\n",
    "    \"\"\"\n",
    "    # TODO: Implement Function\n",
    "    start_tokens = tf.tile(tf.constant([start_of_sequence_id], dtype=tf.int32), [batch_size], name='start_tokens')\n",
    "    embedding_helper = tf.contrib.seq2seq.GreedyEmbeddingHelper(dec_embeddings, start_tokens, end_of_sequence_id)\n",
    "    basic_decoder = tf.contrib.seq2seq.BasicDecoder(dec_cell, embedding_helper, encoder_state, output_layer)\n",
    "    final_outputs, final_state, final_sequence_length = tf.contrib.seq2seq.dynamic_decode(decoder = basic_decoder, maximum_iterations = max_target_sequence_length)\n",
    "    return final_outputs\n",
    "\n",
    "\n",
    "\n",
    "\"\"\"\n",
    "DON'T MODIFY ANYTHING IN THIS CELL THAT IS BELOW THIS LINE\n",
    "\"\"\"\n",
    "tests.test_decoding_layer_infer(decoding_layer_infer)"
   ]
  },
  {
   "cell_type": "markdown",
   "metadata": {},
   "source": [
    "### Build the Decoding Layer\n",
    "Implement `decoding_layer()` to create a Decoder RNN layer.\n",
    "\n",
    "* Embed the target sequences\n",
    "* Construct the decoder LSTM cell (just like you constructed the encoder cell above)\n",
    "* Create an output layer to map the outputs of the decoder to the elements of our vocabulary\n",
    "* Use the your `decoding_layer_train(encoder_state, dec_cell, dec_embed_input, target_sequence_length, max_target_sequence_length, output_layer, keep_prob)` function to get the training logits.\n",
    "* Use your `decoding_layer_infer(encoder_state, dec_cell, dec_embeddings, start_of_sequence_id, end_of_sequence_id, max_target_sequence_length, vocab_size, output_layer, batch_size, keep_prob)` function to get the inference logits.\n",
    "\n",
    "Note: You'll need to use [tf.variable_scope](https://www.tensorflow.org/api_docs/python/tf/variable_scope) to share variables between training and inference."
   ]
  },
  {
   "cell_type": "code",
   "execution_count": 12,
   "metadata": {
    "collapsed": false
   },
   "outputs": [
    {
     "name": "stdout",
     "output_type": "stream",
     "text": [
      "Tests Passed\n"
     ]
    }
   ],
   "source": [
    "def decoding_layer(dec_input, encoder_state,\n",
    "                   target_sequence_length, max_target_sequence_length,\n",
    "                   rnn_size,\n",
    "                   num_layers, target_vocab_to_int, target_vocab_size,\n",
    "                   batch_size, keep_prob, decoding_embedding_size):\n",
    "    \"\"\"\n",
    "    Create decoding layer\n",
    "    :param dec_input: Decoder input\n",
    "    :param encoder_state: Encoder state\n",
    "    :param target_sequence_length: The lengths of each sequence in the target batch\n",
    "    :param max_target_sequence_length: Maximum length of target sequences\n",
    "    :param rnn_size: RNN Size\n",
    "    :param num_layers: Number of layers\n",
    "    :param target_vocab_to_int: Dictionary to go from the target words to an id\n",
    "    :param target_vocab_size: Size of target vocabulary\n",
    "    :param batch_size: The size of the batch\n",
    "    :param keep_prob: Dropout keep probability\n",
    "    :param decoding_embedding_size: Decoding embedding size\n",
    "    :return: Tuple of (Training BasicDecoderOutput, Inference BasicDecoderOutput)\n",
    "    \"\"\"\n",
    "    # TODO: Implement Function\n",
    "    with tf.variable_scope('decoding_scope') as decoding_scope:\n",
    "        embd = tf.get_variable(\"dec_embeddings\", [target_vocab_size, decoding_embedding_size])\n",
    "        dec_embeddings = tf.nn.embedding_lookup(embd, dec_input)\n",
    "        stacked_lstm = tf.contrib.rnn.MultiRNNCell([tf.contrib.rnn.DropoutWrapper(tf.contrib.rnn.LSTMCell(rnn_size), state_keep_prob = keep_prob) for _ in range(num_layers)])\n",
    "        output_layer = Dense(target_vocab_size, kernel_initializer = tf.truncated_normal_initializer(mean = 0.0, stddev = 0.1))\n",
    "        \n",
    "        decoder_train_output = decoding_layer_train(encoder_state, stacked_lstm, dec_embeddings, target_sequence_length, max_target_sequence_length, output_layer, keep_prob)\n",
    "        \n",
    "        decoding_scope.reuse_variables()\n",
    "        \n",
    "        decoder_infer_output = decoding_layer_infer(encoder_state, stacked_lstm, tf.get_variable(\"dec_embeddings\"), target_vocab_to_int['<GO>'], target_vocab_to_int['<EOS>'], max_target_sequence_length, target_vocab_size, output_layer, batch_size, keep_prob)\n",
    "   \n",
    "    \n",
    "    return decoder_train_output, decoder_infer_output\n",
    "    \n",
    "\n",
    "\"\"\"\n",
    "DON'T MODIFY ANYTHING IN THIS CELL THAT IS BELOW THIS LINE\n",
    "\"\"\"\n",
    "tests.test_decoding_layer(decoding_layer)"
   ]
  },
  {
   "cell_type": "markdown",
   "metadata": {},
   "source": [
    "### Build the Neural Network\n",
    "Apply the functions you implemented above to:\n",
    "\n",
    "- Encode the input using your `encoding_layer(rnn_inputs, rnn_size, num_layers, keep_prob,  source_sequence_length, source_vocab_size, encoding_embedding_size)`.\n",
    "- Process target data using your `process_decoder_input(target_data, target_vocab_to_int, batch_size)` function.\n",
    "- Decode the encoded input using your `decoding_layer(dec_input, enc_state, target_sequence_length, max_target_sentence_length, rnn_size, num_layers, target_vocab_to_int, target_vocab_size, batch_size, keep_prob, dec_embedding_size)` function."
   ]
  },
  {
   "cell_type": "code",
   "execution_count": 13,
   "metadata": {
    "collapsed": false
   },
   "outputs": [
    {
     "name": "stdout",
     "output_type": "stream",
     "text": [
      "Tests Passed\n"
     ]
    }
   ],
   "source": [
    "def seq2seq_model(input_data, target_data, keep_prob, batch_size,\n",
    "                  source_sequence_length, target_sequence_length,\n",
    "                  max_target_sentence_length,\n",
    "                  source_vocab_size, target_vocab_size,\n",
    "                  enc_embedding_size, dec_embedding_size,\n",
    "                  rnn_size, num_layers, target_vocab_to_int):\n",
    "    \"\"\"\n",
    "    Build the Sequence-to-Sequence part of the neural network\n",
    "    :param input_data: Input placeholder\n",
    "    :param target_data: Target placeholder\n",
    "    :param keep_prob: Dropout keep probability placeholder\n",
    "    :param batch_size: Batch Size\n",
    "    :param source_sequence_length: Sequence Lengths of source sequences in the batch\n",
    "    :param target_sequence_length: Sequence Lengths of target sequences in the batch\n",
    "    :param source_vocab_size: Source vocabulary size\n",
    "    :param target_vocab_size: Target vocabulary size\n",
    "    :param enc_embedding_size: Decoder embedding size\n",
    "    :param dec_embedding_size: Encoder embedding size\n",
    "    :param rnn_size: RNN Size\n",
    "    :param num_layers: Number of layers\n",
    "    :param target_vocab_to_int: Dictionary to go from the target words to an id\n",
    "    :return: Tuple of (Training BasicDecoderOutput, Inference BasicDecoderOutput)\n",
    "    \"\"\"\n",
    "    # TODO: Implement Function\n",
    "    enc_outputs, enc_state = encoding_layer(input_data, rnn_size, num_layers, keep_prob, source_sequence_length, source_vocab_size, enc_embedding_size)\n",
    "    dec_input = process_decoder_input(target_data, target_vocab_to_int, batch_size)\n",
    "    decoder_train_output, decoder_infer_output = decoding_layer(dec_input, enc_state, target_sequence_length, max_target_sentence_length, rnn_size, num_layers, target_vocab_to_int, target_vocab_size, batch_size, keep_prob, dec_embedding_size)\n",
    "\n",
    "    \n",
    "    return decoder_train_output, decoder_infer_output\n",
    "\n",
    "\n",
    "\"\"\"\n",
    "DON'T MODIFY ANYTHING IN THIS CELL THAT IS BELOW THIS LINE\n",
    "\"\"\"\n",
    "tests.test_seq2seq_model(seq2seq_model)"
   ]
  },
  {
   "cell_type": "markdown",
   "metadata": {},
   "source": [
    "## Neural Network Training\n",
    "### Hyperparameters\n",
    "Tune the following parameters:\n",
    "\n",
    "- Set `epochs` to the number of epochs.\n",
    "- Set `batch_size` to the batch size.\n",
    "- Set `rnn_size` to the size of the RNNs.\n",
    "- Set `num_layers` to the number of layers.\n",
    "- Set `encoding_embedding_size` to the size of the embedding for the encoder.\n",
    "- Set `decoding_embedding_size` to the size of the embedding for the decoder.\n",
    "- Set `learning_rate` to the learning rate.\n",
    "- Set `keep_probability` to the Dropout keep probability\n",
    "- Set `display_step` to state how many steps between each debug output statement"
   ]
  },
  {
   "cell_type": "code",
   "execution_count": 14,
   "metadata": {
    "collapsed": true
   },
   "outputs": [],
   "source": [
    "# Number of Epochs\n",
    "epochs = 10\n",
    "# Batch Size\n",
    "batch_size = 256\n",
    "# RNN Size\n",
    "rnn_size = 256\n",
    "# Number of Layers\n",
    "num_layers = 2\n",
    "# Embedding Size\n",
    "encoding_embedding_size = 100\n",
    "decoding_embedding_size = 100\n",
    "# Learning Rate\n",
    "learning_rate = 0.001\n",
    "# Dropout Keep Probability\n",
    "keep_probability = 0.75\n",
    "display_step = 30"
   ]
  },
  {
   "cell_type": "markdown",
   "metadata": {},
   "source": [
    "### Build the Graph\n",
    "Build the graph using the neural network you implemented."
   ]
  },
  {
   "cell_type": "code",
   "execution_count": 15,
   "metadata": {
    "collapsed": false
   },
   "outputs": [],
   "source": [
    "\"\"\"\n",
    "DON'T MODIFY ANYTHING IN THIS CELL\n",
    "\"\"\"\n",
    "save_path = 'checkpoints/dev'\n",
    "(source_int_text, target_int_text), (source_vocab_to_int, target_vocab_to_int), _ = helper.load_preprocess()\n",
    "max_target_sentence_length = max([len(sentence) for sentence in source_int_text])\n",
    "\n",
    "train_graph = tf.Graph()\n",
    "with train_graph.as_default():\n",
    "    input_data, targets, lr, keep_prob, target_sequence_length, max_target_sequence_length, source_sequence_length = model_inputs()\n",
    "\n",
    "    #sequence_length = tf.placeholder_with_default(max_target_sentence_length, None, name='sequence_length')\n",
    "    input_shape = tf.shape(input_data)\n",
    "\n",
    "    train_logits, inference_logits = seq2seq_model(tf.reverse(input_data, [-1]),\n",
    "                                                   targets,\n",
    "                                                   keep_prob,\n",
    "                                                   batch_size,\n",
    "                                                   source_sequence_length,\n",
    "                                                   target_sequence_length,\n",
    "                                                   max_target_sequence_length,\n",
    "                                                   len(source_vocab_to_int),\n",
    "                                                   len(target_vocab_to_int),\n",
    "                                                   encoding_embedding_size,\n",
    "                                                   decoding_embedding_size,\n",
    "                                                   rnn_size,\n",
    "                                                   num_layers,\n",
    "                                                   target_vocab_to_int)\n",
    "\n",
    "\n",
    "    training_logits = tf.identity(train_logits.rnn_output, name='logits')\n",
    "    inference_logits = tf.identity(inference_logits.sample_id, name='predictions')\n",
    "\n",
    "    masks = tf.sequence_mask(target_sequence_length, max_target_sequence_length, dtype=tf.float32, name='masks')\n",
    "\n",
    "    with tf.name_scope(\"optimization\"):\n",
    "        # Loss function\n",
    "        cost = tf.contrib.seq2seq.sequence_loss(\n",
    "            training_logits,\n",
    "            targets,\n",
    "            masks)\n",
    "\n",
    "        # Optimizer\n",
    "        optimizer = tf.train.AdamOptimizer(lr)\n",
    "\n",
    "        # Gradient Clipping\n",
    "        gradients = optimizer.compute_gradients(cost)\n",
    "        capped_gradients = [(tf.clip_by_value(grad, -1., 1.), var) for grad, var in gradients if grad is not None]\n",
    "        train_op = optimizer.apply_gradients(capped_gradients)\n"
   ]
  },
  {
   "cell_type": "markdown",
   "metadata": {},
   "source": [
    "Batch and pad the source and target sequences"
   ]
  },
  {
   "cell_type": "code",
   "execution_count": 16,
   "metadata": {
    "collapsed": true
   },
   "outputs": [],
   "source": [
    "\"\"\"\n",
    "DON'T MODIFY ANYTHING IN THIS CELL\n",
    "\"\"\"\n",
    "def pad_sentence_batch(sentence_batch, pad_int):\n",
    "    \"\"\"Pad sentences with <PAD> so that each sentence of a batch has the same length\"\"\"\n",
    "    max_sentence = max([len(sentence) for sentence in sentence_batch])\n",
    "    return [sentence + [pad_int] * (max_sentence - len(sentence)) for sentence in sentence_batch]\n",
    "\n",
    "\n",
    "def get_batches(sources, targets, batch_size, source_pad_int, target_pad_int):\n",
    "    \"\"\"Batch targets, sources, and the lengths of their sentences together\"\"\"\n",
    "    for batch_i in range(0, len(sources)//batch_size):\n",
    "        start_i = batch_i * batch_size\n",
    "\n",
    "        # Slice the right amount for the batch\n",
    "        sources_batch = sources[start_i:start_i + batch_size]\n",
    "        targets_batch = targets[start_i:start_i + batch_size]\n",
    "\n",
    "        # Pad\n",
    "        pad_sources_batch = np.array(pad_sentence_batch(sources_batch, source_pad_int))\n",
    "        pad_targets_batch = np.array(pad_sentence_batch(targets_batch, target_pad_int))\n",
    "\n",
    "        # Need the lengths for the _lengths parameters\n",
    "        pad_targets_lengths = []\n",
    "        for target in pad_targets_batch:\n",
    "            pad_targets_lengths.append(len(target))\n",
    "\n",
    "        pad_source_lengths = []\n",
    "        for source in pad_sources_batch:\n",
    "            pad_source_lengths.append(len(source))\n",
    "\n",
    "        yield pad_sources_batch, pad_targets_batch, pad_source_lengths, pad_targets_lengths\n"
   ]
  },
  {
   "cell_type": "markdown",
   "metadata": {},
   "source": [
    "### Train\n",
    "Train the neural network on the preprocessed data. If you have a hard time getting a good loss, check the forms to see if anyone is having the same problem."
   ]
  },
  {
   "cell_type": "code",
   "execution_count": 17,
   "metadata": {
    "collapsed": false,
    "scrolled": true
   },
   "outputs": [
    {
     "name": "stdout",
     "output_type": "stream",
     "text": [
      "Epoch   0 Batch   30/538 - Train Accuracy: 0.0781, Validation Accuracy: 0.0671, Loss: 3.2027\n",
      "Epoch   0 Batch   60/538 - Train Accuracy: 0.0801, Validation Accuracy: 0.0671, Loss: 2.8265\n",
      "Epoch   0 Batch   90/538 - Train Accuracy: 0.0753, Validation Accuracy: 0.0708, Loss: 2.4949\n",
      "Epoch   0 Batch  120/538 - Train Accuracy: 0.0441, Validation Accuracy: 0.1151, Loss: 2.3170\n",
      "Epoch   0 Batch  150/538 - Train Accuracy: 0.2543, Validation Accuracy: 0.3244, Loss: 1.8885\n",
      "Epoch   0 Batch  180/538 - Train Accuracy: 0.3268, Validation Accuracy: 0.3441, Loss: 1.5172\n",
      "Epoch   0 Batch  210/538 - Train Accuracy: 0.3322, Validation Accuracy: 0.3510, Loss: 1.3087\n",
      "Epoch   0 Batch  240/538 - Train Accuracy: 0.3359, Validation Accuracy: 0.4103, Loss: 1.2449\n",
      "Epoch   0 Batch  270/538 - Train Accuracy: 0.3875, Validation Accuracy: 0.4439, Loss: 1.0891\n",
      "Epoch   0 Batch  300/538 - Train Accuracy: 0.4689, Validation Accuracy: 0.4879, Loss: 0.9667\n",
      "Epoch   0 Batch  330/538 - Train Accuracy: 0.4721, Validation Accuracy: 0.4817, Loss: 0.8957\n",
      "Epoch   0 Batch  360/538 - Train Accuracy: 0.4525, Validation Accuracy: 0.4995, Loss: 0.8977\n",
      "Epoch   0 Batch  390/538 - Train Accuracy: 0.5149, Validation Accuracy: 0.5195, Loss: 0.8064\n",
      "Epoch   0 Batch  420/538 - Train Accuracy: 0.4869, Validation Accuracy: 0.5300, Loss: 0.8032\n",
      "Epoch   0 Batch  450/538 - Train Accuracy: 0.5177, Validation Accuracy: 0.5273, Loss: 0.7853\n",
      "Epoch   0 Batch  480/538 - Train Accuracy: 0.5275, Validation Accuracy: 0.5495, Loss: 0.7392\n",
      "Epoch   0 Batch  510/538 - Train Accuracy: 0.5353, Validation Accuracy: 0.5478, Loss: 0.7371\n",
      "Epoch   1 Batch   30/538 - Train Accuracy: 0.5039, Validation Accuracy: 0.5531, Loss: 0.7463\n",
      "Epoch   1 Batch   60/538 - Train Accuracy: 0.5209, Validation Accuracy: 0.5589, Loss: 0.7041\n",
      "Epoch   1 Batch   90/538 - Train Accuracy: 0.5409, Validation Accuracy: 0.5774, Loss: 0.6919\n",
      "Epoch   1 Batch  120/538 - Train Accuracy: 0.5406, Validation Accuracy: 0.5668, Loss: 0.6565\n",
      "Epoch   1 Batch  150/538 - Train Accuracy: 0.5758, Validation Accuracy: 0.5700, Loss: 0.6689\n",
      "Epoch   1 Batch  180/538 - Train Accuracy: 0.5800, Validation Accuracy: 0.5723, Loss: 0.6435\n",
      "Epoch   1 Batch  210/538 - Train Accuracy: 0.5446, Validation Accuracy: 0.5621, Loss: 0.6439\n",
      "Epoch   1 Batch  240/538 - Train Accuracy: 0.5656, Validation Accuracy: 0.5850, Loss: 0.6547\n",
      "Epoch   1 Batch  270/538 - Train Accuracy: 0.5422, Validation Accuracy: 0.5909, Loss: 0.6440\n",
      "Epoch   1 Batch  300/538 - Train Accuracy: 0.5841, Validation Accuracy: 0.5946, Loss: 0.6226\n",
      "Epoch   1 Batch  330/538 - Train Accuracy: 0.5727, Validation Accuracy: 0.6017, Loss: 0.5990\n",
      "Epoch   1 Batch  360/538 - Train Accuracy: 0.5814, Validation Accuracy: 0.5977, Loss: 0.6317\n",
      "Epoch   1 Batch  390/538 - Train Accuracy: 0.5902, Validation Accuracy: 0.6051, Loss: 0.5925\n",
      "Epoch   1 Batch  420/538 - Train Accuracy: 0.5986, Validation Accuracy: 0.6088, Loss: 0.6109\n",
      "Epoch   1 Batch  450/538 - Train Accuracy: 0.6010, Validation Accuracy: 0.6007, Loss: 0.6006\n",
      "Epoch   1 Batch  480/538 - Train Accuracy: 0.5991, Validation Accuracy: 0.6119, Loss: 0.5873\n",
      "Epoch   1 Batch  510/538 - Train Accuracy: 0.6071, Validation Accuracy: 0.6154, Loss: 0.5878\n",
      "Epoch   2 Batch   30/538 - Train Accuracy: 0.5721, Validation Accuracy: 0.6131, Loss: 0.6112\n",
      "Epoch   2 Batch   60/538 - Train Accuracy: 0.5920, Validation Accuracy: 0.6218, Loss: 0.5880\n",
      "Epoch   2 Batch   90/538 - Train Accuracy: 0.6042, Validation Accuracy: 0.6181, Loss: 0.5791\n",
      "Epoch   2 Batch  120/538 - Train Accuracy: 0.5955, Validation Accuracy: 0.6262, Loss: 0.5643\n",
      "Epoch   2 Batch  150/538 - Train Accuracy: 0.5965, Validation Accuracy: 0.5996, Loss: 0.5786\n",
      "Epoch   2 Batch  180/538 - Train Accuracy: 0.6261, Validation Accuracy: 0.6310, Loss: 0.5544\n",
      "Epoch   2 Batch  210/538 - Train Accuracy: 0.5867, Validation Accuracy: 0.6161, Loss: 0.5654\n",
      "Epoch   2 Batch  240/538 - Train Accuracy: 0.5990, Validation Accuracy: 0.6394, Loss: 0.5593\n",
      "Epoch   2 Batch  270/538 - Train Accuracy: 0.5891, Validation Accuracy: 0.6406, Loss: 0.5652\n",
      "Epoch   2 Batch  300/538 - Train Accuracy: 0.6222, Validation Accuracy: 0.6360, Loss: 0.5440\n",
      "Epoch   2 Batch  330/538 - Train Accuracy: 0.6310, Validation Accuracy: 0.6523, Loss: 0.5188\n",
      "Epoch   2 Batch  360/538 - Train Accuracy: 0.6203, Validation Accuracy: 0.6413, Loss: 0.5434\n",
      "Epoch   2 Batch  390/538 - Train Accuracy: 0.6427, Validation Accuracy: 0.6445, Loss: 0.5218\n",
      "Epoch   2 Batch  420/538 - Train Accuracy: 0.6309, Validation Accuracy: 0.6513, Loss: 0.5346\n",
      "Epoch   2 Batch  450/538 - Train Accuracy: 0.6460, Validation Accuracy: 0.6511, Loss: 0.5253\n",
      "Epoch   2 Batch  480/538 - Train Accuracy: 0.6380, Validation Accuracy: 0.6518, Loss: 0.5113\n",
      "Epoch   2 Batch  510/538 - Train Accuracy: 0.6386, Validation Accuracy: 0.6641, Loss: 0.5140\n",
      "Epoch   3 Batch   30/538 - Train Accuracy: 0.5961, Validation Accuracy: 0.6559, Loss: 0.5410\n",
      "Epoch   3 Batch   60/538 - Train Accuracy: 0.6350, Validation Accuracy: 0.6547, Loss: 0.5187\n",
      "Epoch   3 Batch   90/538 - Train Accuracy: 0.6438, Validation Accuracy: 0.6580, Loss: 0.5053\n",
      "Epoch   3 Batch  120/538 - Train Accuracy: 0.6436, Validation Accuracy: 0.6605, Loss: 0.4906\n",
      "Epoch   3 Batch  150/538 - Train Accuracy: 0.6420, Validation Accuracy: 0.6635, Loss: 0.5033\n",
      "Epoch   3 Batch  180/538 - Train Accuracy: 0.6479, Validation Accuracy: 0.6493, Loss: 0.4847\n",
      "Epoch   3 Batch  210/538 - Train Accuracy: 0.6298, Validation Accuracy: 0.6594, Loss: 0.4896\n",
      "Epoch   3 Batch  240/538 - Train Accuracy: 0.6328, Validation Accuracy: 0.6829, Loss: 0.4872\n",
      "Epoch   3 Batch  270/538 - Train Accuracy: 0.6318, Validation Accuracy: 0.6735, Loss: 0.4998\n",
      "Epoch   3 Batch  300/538 - Train Accuracy: 0.6490, Validation Accuracy: 0.6813, Loss: 0.4839\n",
      "Epoch   3 Batch  330/538 - Train Accuracy: 0.6628, Validation Accuracy: 0.6813, Loss: 0.4624\n",
      "Epoch   3 Batch  360/538 - Train Accuracy: 0.6459, Validation Accuracy: 0.6767, Loss: 0.4867\n",
      "Epoch   3 Batch  390/538 - Train Accuracy: 0.6951, Validation Accuracy: 0.6932, Loss: 0.4642\n",
      "Epoch   3 Batch  420/538 - Train Accuracy: 0.6484, Validation Accuracy: 0.6877, Loss: 0.4797\n",
      "Epoch   3 Batch  450/538 - Train Accuracy: 0.6724, Validation Accuracy: 0.6875, Loss: 0.4743\n",
      "Epoch   3 Batch  480/538 - Train Accuracy: 0.6715, Validation Accuracy: 0.6937, Loss: 0.4583\n",
      "Epoch   3 Batch  510/538 - Train Accuracy: 0.6629, Validation Accuracy: 0.6992, Loss: 0.4583\n",
      "Epoch   4 Batch   30/538 - Train Accuracy: 0.6361, Validation Accuracy: 0.6980, Loss: 0.4926\n",
      "Epoch   4 Batch   60/538 - Train Accuracy: 0.6574, Validation Accuracy: 0.6953, Loss: 0.4699\n",
      "Epoch   4 Batch   90/538 - Train Accuracy: 0.6641, Validation Accuracy: 0.6930, Loss: 0.4630\n",
      "Epoch   4 Batch  120/538 - Train Accuracy: 0.6713, Validation Accuracy: 0.6946, Loss: 0.4469\n",
      "Epoch   4 Batch  150/538 - Train Accuracy: 0.6674, Validation Accuracy: 0.6982, Loss: 0.4607\n",
      "Epoch   4 Batch  180/538 - Train Accuracy: 0.6862, Validation Accuracy: 0.6900, Loss: 0.4459\n",
      "Epoch   4 Batch  210/538 - Train Accuracy: 0.6522, Validation Accuracy: 0.6792, Loss: 0.4469\n",
      "Epoch   4 Batch  240/538 - Train Accuracy: 0.6682, Validation Accuracy: 0.7013, Loss: 0.4447\n",
      "Epoch   4 Batch  270/538 - Train Accuracy: 0.6471, Validation Accuracy: 0.6976, Loss: 0.4614\n",
      "Epoch   4 Batch  300/538 - Train Accuracy: 0.6799, Validation Accuracy: 0.6990, Loss: 0.4394\n",
      "Epoch   4 Batch  330/538 - Train Accuracy: 0.6897, Validation Accuracy: 0.6969, Loss: 0.4220\n",
      "Epoch   4 Batch  360/538 - Train Accuracy: 0.6512, Validation Accuracy: 0.7021, Loss: 0.4528\n",
      "Epoch   4 Batch  390/538 - Train Accuracy: 0.6994, Validation Accuracy: 0.7100, Loss: 0.4361\n",
      "Epoch   4 Batch  420/538 - Train Accuracy: 0.6752, Validation Accuracy: 0.6974, Loss: 0.4498\n",
      "Epoch   4 Batch  450/538 - Train Accuracy: 0.6762, Validation Accuracy: 0.6911, Loss: 0.4438\n",
      "Epoch   4 Batch  480/538 - Train Accuracy: 0.6959, Validation Accuracy: 0.7035, Loss: 0.4295\n",
      "Epoch   4 Batch  510/538 - Train Accuracy: 0.6799, Validation Accuracy: 0.7145, Loss: 0.4374\n",
      "Epoch   5 Batch   30/538 - Train Accuracy: 0.6637, Validation Accuracy: 0.7088, Loss: 0.4611\n",
      "Epoch   5 Batch   60/538 - Train Accuracy: 0.6625, Validation Accuracy: 0.7001, Loss: 0.4438\n",
      "Epoch   5 Batch   90/538 - Train Accuracy: 0.6851, Validation Accuracy: 0.6992, Loss: 0.4340\n",
      "Epoch   5 Batch  120/538 - Train Accuracy: 0.6785, Validation Accuracy: 0.6964, Loss: 0.4190\n",
      "Epoch   5 Batch  150/538 - Train Accuracy: 0.6793, Validation Accuracy: 0.7037, Loss: 0.4375\n",
      "Epoch   5 Batch  180/538 - Train Accuracy: 0.6949, Validation Accuracy: 0.6958, Loss: 0.4211\n",
      "Epoch   5 Batch  210/538 - Train Accuracy: 0.6620, Validation Accuracy: 0.6916, Loss: 0.4200\n",
      "Epoch   5 Batch  240/538 - Train Accuracy: 0.6846, Validation Accuracy: 0.6989, Loss: 0.4114\n",
      "Epoch   5 Batch  270/538 - Train Accuracy: 0.6543, Validation Accuracy: 0.6925, Loss: 0.4299\n",
      "Epoch   5 Batch  300/538 - Train Accuracy: 0.6782, Validation Accuracy: 0.6838, Loss: 0.4127\n",
      "Epoch   5 Batch  330/538 - Train Accuracy: 0.7050, Validation Accuracy: 0.6962, Loss: 0.3999\n",
      "Epoch   5 Batch  360/538 - Train Accuracy: 0.6467, Validation Accuracy: 0.6930, Loss: 0.4240\n",
      "Epoch   5 Batch  390/538 - Train Accuracy: 0.6981, Validation Accuracy: 0.6999, Loss: 0.4070\n",
      "Epoch   5 Batch  420/538 - Train Accuracy: 0.6906, Validation Accuracy: 0.7013, Loss: 0.4168\n",
      "Epoch   5 Batch  450/538 - Train Accuracy: 0.7035, Validation Accuracy: 0.6912, Loss: 0.4114\n",
      "Epoch   5 Batch  480/538 - Train Accuracy: 0.6851, Validation Accuracy: 0.6806, Loss: 0.4015\n",
      "Epoch   5 Batch  510/538 - Train Accuracy: 0.6873, Validation Accuracy: 0.7086, Loss: 0.4074\n",
      "Epoch   6 Batch   30/538 - Train Accuracy: 0.6803, Validation Accuracy: 0.6969, Loss: 0.4247\n",
      "Epoch   6 Batch   60/538 - Train Accuracy: 0.6609, Validation Accuracy: 0.6942, Loss: 0.4192\n",
      "Epoch   6 Batch   90/538 - Train Accuracy: 0.6953, Validation Accuracy: 0.6992, Loss: 0.4038\n",
      "Epoch   6 Batch  120/538 - Train Accuracy: 0.6766, Validation Accuracy: 0.6966, Loss: 0.3891\n",
      "Epoch   6 Batch  150/538 - Train Accuracy: 0.6918, Validation Accuracy: 0.7095, Loss: 0.4113\n",
      "Epoch   6 Batch  180/538 - Train Accuracy: 0.7063, Validation Accuracy: 0.7013, Loss: 0.3955\n",
      "Epoch   6 Batch  210/538 - Train Accuracy: 0.6633, Validation Accuracy: 0.6928, Loss: 0.3965\n",
      "Epoch   6 Batch  240/538 - Train Accuracy: 0.6914, Validation Accuracy: 0.7044, Loss: 0.3876\n",
      "Epoch   6 Batch  270/538 - Train Accuracy: 0.6672, Validation Accuracy: 0.7015, Loss: 0.4123\n",
      "Epoch   6 Batch  300/538 - Train Accuracy: 0.6873, Validation Accuracy: 0.7065, Loss: 0.3951\n",
      "Epoch   6 Batch  330/538 - Train Accuracy: 0.7046, Validation Accuracy: 0.7003, Loss: 0.3788\n",
      "Epoch   6 Batch  360/538 - Train Accuracy: 0.6562, Validation Accuracy: 0.7006, Loss: 0.4026\n",
      "Epoch   6 Batch  390/538 - Train Accuracy: 0.6972, Validation Accuracy: 0.6974, Loss: 0.3947\n",
      "Epoch   6 Batch  420/538 - Train Accuracy: 0.6990, Validation Accuracy: 0.6912, Loss: 0.4040\n",
      "Epoch   6 Batch  450/538 - Train Accuracy: 0.7100, Validation Accuracy: 0.6996, Loss: 0.3889\n",
      "Epoch   6 Batch  480/538 - Train Accuracy: 0.6979, Validation Accuracy: 0.6996, Loss: 0.3917\n",
      "Epoch   6 Batch  510/538 - Train Accuracy: 0.6875, Validation Accuracy: 0.7140, Loss: 0.3998\n",
      "Epoch   7 Batch   30/538 - Train Accuracy: 0.6992, Validation Accuracy: 0.7108, Loss: 0.4114\n",
      "Epoch   7 Batch   60/538 - Train Accuracy: 0.7078, Validation Accuracy: 0.7040, Loss: 0.4020\n",
      "Epoch   7 Batch   90/538 - Train Accuracy: 0.7061, Validation Accuracy: 0.7164, Loss: 0.3893\n",
      "Epoch   7 Batch  120/538 - Train Accuracy: 0.7080, Validation Accuracy: 0.7228, Loss: 0.3785\n",
      "Epoch   7 Batch  150/538 - Train Accuracy: 0.7057, Validation Accuracy: 0.7285, Loss: 0.3938\n",
      "Epoch   7 Batch  180/538 - Train Accuracy: 0.7266, Validation Accuracy: 0.7138, Loss: 0.3790\n",
      "Epoch   7 Batch  210/538 - Train Accuracy: 0.6884, Validation Accuracy: 0.7239, Loss: 0.3810\n",
      "Epoch   7 Batch  240/538 - Train Accuracy: 0.7191, Validation Accuracy: 0.7342, Loss: 0.3683\n",
      "Epoch   7 Batch  270/538 - Train Accuracy: 0.7002, Validation Accuracy: 0.7196, Loss: 0.3970\n",
      "Epoch   7 Batch  300/538 - Train Accuracy: 0.7109, Validation Accuracy: 0.7159, Loss: 0.3775\n",
      "Epoch   7 Batch  330/538 - Train Accuracy: 0.7424, Validation Accuracy: 0.7257, Loss: 0.3626\n",
      "Epoch   7 Batch  360/538 - Train Accuracy: 0.7066, Validation Accuracy: 0.7248, Loss: 0.3929\n",
      "Epoch   7 Batch  390/538 - Train Accuracy: 0.7236, Validation Accuracy: 0.7189, Loss: 0.3819\n",
      "Epoch   7 Batch  420/538 - Train Accuracy: 0.7096, Validation Accuracy: 0.7150, Loss: 0.3920\n",
      "Epoch   7 Batch  450/538 - Train Accuracy: 0.7232, Validation Accuracy: 0.7306, Loss: 0.3727\n",
      "Epoch   7 Batch  480/538 - Train Accuracy: 0.7109, Validation Accuracy: 0.7065, Loss: 0.3783\n",
      "Epoch   7 Batch  510/538 - Train Accuracy: 0.7061, Validation Accuracy: 0.7319, Loss: 0.3803\n",
      "Epoch   8 Batch   30/538 - Train Accuracy: 0.7113, Validation Accuracy: 0.7047, Loss: 0.3942\n",
      "Epoch   8 Batch   60/538 - Train Accuracy: 0.7119, Validation Accuracy: 0.7115, Loss: 0.3881\n",
      "Epoch   8 Batch   90/538 - Train Accuracy: 0.7122, Validation Accuracy: 0.7239, Loss: 0.3780\n",
      "Epoch   8 Batch  120/538 - Train Accuracy: 0.7141, Validation Accuracy: 0.7237, Loss: 0.3657\n",
      "Epoch   8 Batch  150/538 - Train Accuracy: 0.7145, Validation Accuracy: 0.7250, Loss: 0.3841\n",
      "Epoch   8 Batch  180/538 - Train Accuracy: 0.7284, Validation Accuracy: 0.7180, Loss: 0.3701\n",
      "Epoch   8 Batch  210/538 - Train Accuracy: 0.6886, Validation Accuracy: 0.7095, Loss: 0.3798\n",
      "Epoch   8 Batch  240/538 - Train Accuracy: 0.7307, Validation Accuracy: 0.7408, Loss: 0.3572\n",
      "Epoch   8 Batch  270/538 - Train Accuracy: 0.7012, Validation Accuracy: 0.7172, Loss: 0.3858\n",
      "Epoch   8 Batch  300/538 - Train Accuracy: 0.7054, Validation Accuracy: 0.7211, Loss: 0.3702\n",
      "Epoch   8 Batch  330/538 - Train Accuracy: 0.7517, Validation Accuracy: 0.7273, Loss: 0.3507\n",
      "Epoch   8 Batch  360/538 - Train Accuracy: 0.7086, Validation Accuracy: 0.7248, Loss: 0.3796\n",
      "Epoch   8 Batch  390/538 - Train Accuracy: 0.7189, Validation Accuracy: 0.7106, Loss: 0.3738\n",
      "Epoch   8 Batch  420/538 - Train Accuracy: 0.7188, Validation Accuracy: 0.7257, Loss: 0.3801\n",
      "Epoch   8 Batch  450/538 - Train Accuracy: 0.7292, Validation Accuracy: 0.7305, Loss: 0.3687\n",
      "Epoch   8 Batch  480/538 - Train Accuracy: 0.7124, Validation Accuracy: 0.7088, Loss: 0.3665\n",
      "Epoch   8 Batch  510/538 - Train Accuracy: 0.7119, Validation Accuracy: 0.7370, Loss: 0.3751\n",
      "Epoch   9 Batch   30/538 - Train Accuracy: 0.7211, Validation Accuracy: 0.7191, Loss: 0.3833\n",
      "Epoch   9 Batch   60/538 - Train Accuracy: 0.7121, Validation Accuracy: 0.7255, Loss: 0.3799\n",
      "Epoch   9 Batch   90/538 - Train Accuracy: 0.7197, Validation Accuracy: 0.7218, Loss: 0.3708\n",
      "Epoch   9 Batch  120/538 - Train Accuracy: 0.7188, Validation Accuracy: 0.7328, Loss: 0.3590\n",
      "Epoch   9 Batch  150/538 - Train Accuracy: 0.7164, Validation Accuracy: 0.7324, Loss: 0.3772\n",
      "Epoch   9 Batch  180/538 - Train Accuracy: 0.7383, Validation Accuracy: 0.7298, Loss: 0.3638\n",
      "Epoch   9 Batch  210/538 - Train Accuracy: 0.6988, Validation Accuracy: 0.7251, Loss: 0.3658\n",
      "Epoch   9 Batch  240/538 - Train Accuracy: 0.7451, Validation Accuracy: 0.7475, Loss: 0.3483\n",
      "Epoch   9 Batch  270/538 - Train Accuracy: 0.7000, Validation Accuracy: 0.7283, Loss: 0.3790\n",
      "Epoch   9 Batch  300/538 - Train Accuracy: 0.7217, Validation Accuracy: 0.7305, Loss: 0.3628\n",
      "Epoch   9 Batch  330/538 - Train Accuracy: 0.7455, Validation Accuracy: 0.7303, Loss: 0.3463\n",
      "Epoch   9 Batch  360/538 - Train Accuracy: 0.7021, Validation Accuracy: 0.7243, Loss: 0.3768\n",
      "Epoch   9 Batch  390/538 - Train Accuracy: 0.7279, Validation Accuracy: 0.7278, Loss: 0.3672\n",
      "Epoch   9 Batch  420/538 - Train Accuracy: 0.7229, Validation Accuracy: 0.7322, Loss: 0.3710\n",
      "Epoch   9 Batch  450/538 - Train Accuracy: 0.7368, Validation Accuracy: 0.7415, Loss: 0.3642\n",
      "Epoch   9 Batch  480/538 - Train Accuracy: 0.7188, Validation Accuracy: 0.7273, Loss: 0.3657\n",
      "Epoch   9 Batch  510/538 - Train Accuracy: 0.7195, Validation Accuracy: 0.7376, Loss: 0.3743\n",
      "Model Trained and Saved\n"
     ]
    }
   ],
   "source": [
    "\"\"\"\n",
    "DON'T MODIFY ANYTHING IN THIS CELL\n",
    "\"\"\"\n",
    "def get_accuracy(target, logits):\n",
    "    \"\"\"\n",
    "    Calculate accuracy\n",
    "    \"\"\"\n",
    "    max_seq = max(target.shape[1], logits.shape[1])\n",
    "    if max_seq - target.shape[1]:\n",
    "        target = np.pad(\n",
    "            target,\n",
    "            [(0,0),(0,max_seq - target.shape[1])],\n",
    "            'constant')\n",
    "    if max_seq - logits.shape[1]:\n",
    "        logits = np.pad(\n",
    "            logits,\n",
    "            [(0,0),(0,max_seq - logits.shape[1])],\n",
    "            'constant')\n",
    "\n",
    "    return np.mean(np.equal(target, logits))\n",
    "\n",
    "# Split data to training and validation sets\n",
    "train_source = source_int_text[batch_size:]\n",
    "train_target = target_int_text[batch_size:]\n",
    "valid_source = source_int_text[:batch_size]\n",
    "valid_target = target_int_text[:batch_size]\n",
    "(valid_sources_batch, valid_targets_batch, valid_sources_lengths, valid_targets_lengths ) = next(get_batches(valid_source,\n",
    "                                                                                                             valid_target,\n",
    "                                                                                                             batch_size,\n",
    "                                                                                                             source_vocab_to_int['<PAD>'],\n",
    "                                                                                                             target_vocab_to_int['<PAD>']))                                                                                                  \n",
    "with tf.Session(graph=train_graph) as sess:\n",
    "    sess.run(tf.global_variables_initializer())\n",
    "\n",
    "    for epoch_i in range(epochs):\n",
    "        for batch_i, (source_batch, target_batch, sources_lengths, targets_lengths) in enumerate(\n",
    "                get_batches(train_source, train_target, batch_size,\n",
    "                            source_vocab_to_int['<PAD>'],\n",
    "                            target_vocab_to_int['<PAD>'])):\n",
    "\n",
    "            _, loss = sess.run(\n",
    "                [train_op, cost],\n",
    "                {input_data: source_batch,\n",
    "                 targets: target_batch,\n",
    "                 lr: learning_rate,\n",
    "                 target_sequence_length: targets_lengths,\n",
    "                 source_sequence_length: sources_lengths,\n",
    "                 keep_prob: keep_probability})\n",
    "\n",
    "\n",
    "            if batch_i % display_step == 0 and batch_i > 0:\n",
    "\n",
    "\n",
    "                batch_train_logits = sess.run(\n",
    "                    inference_logits,\n",
    "                    {input_data: source_batch,\n",
    "                     source_sequence_length: sources_lengths,\n",
    "                     target_sequence_length: targets_lengths,\n",
    "                     keep_prob: 1.0})\n",
    "\n",
    "\n",
    "                batch_valid_logits = sess.run(\n",
    "                    inference_logits,\n",
    "                    {input_data: valid_sources_batch,\n",
    "                     source_sequence_length: valid_sources_lengths,\n",
    "                     target_sequence_length: valid_targets_lengths,\n",
    "                     keep_prob: 1.0})\n",
    "\n",
    "                train_acc = get_accuracy(target_batch, batch_train_logits)\n",
    "\n",
    "                valid_acc = get_accuracy(valid_targets_batch, batch_valid_logits)\n",
    "\n",
    "                print('Epoch {:>3} Batch {:>4}/{} - Train Accuracy: {:>6.4f}, Validation Accuracy: {:>6.4f}, Loss: {:>6.4f}'\n",
    "                      .format(epoch_i, batch_i, len(source_int_text) // batch_size, train_acc, valid_acc, loss))\n",
    "\n",
    "    # Save Model\n",
    "    saver = tf.train.Saver()\n",
    "    saver.save(sess, save_path)\n",
    "    print('Model Trained and Saved')"
   ]
  },
  {
   "cell_type": "markdown",
   "metadata": {},
   "source": [
    "### Save Parameters\n",
    "Save the `batch_size` and `save_path` parameters for inference."
   ]
  },
  {
   "cell_type": "code",
   "execution_count": 18,
   "metadata": {
    "collapsed": false
   },
   "outputs": [],
   "source": [
    "\"\"\"\n",
    "DON'T MODIFY ANYTHING IN THIS CELL\n",
    "\"\"\"\n",
    "# Save parameters for checkpoint\n",
    "helper.save_params(save_path)"
   ]
  },
  {
   "cell_type": "markdown",
   "metadata": {},
   "source": [
    "# Checkpoint"
   ]
  },
  {
   "cell_type": "code",
   "execution_count": 19,
   "metadata": {
    "collapsed": true
   },
   "outputs": [],
   "source": [
    "\"\"\"\n",
    "DON'T MODIFY ANYTHING IN THIS CELL\n",
    "\"\"\"\n",
    "import tensorflow as tf\n",
    "import numpy as np\n",
    "import helper\n",
    "import problem_unittests as tests\n",
    "\n",
    "_, (source_vocab_to_int, target_vocab_to_int), (source_int_to_vocab, target_int_to_vocab) = helper.load_preprocess()\n",
    "load_path = helper.load_params()"
   ]
  },
  {
   "cell_type": "markdown",
   "metadata": {},
   "source": [
    "## Sentence to Sequence\n",
    "To feed a sentence into the model for translation, you first need to preprocess it.  Implement the function `sentence_to_seq()` to preprocess new sentences.\n",
    "\n",
    "- Convert the sentence to lowercase\n",
    "- Convert words into ids using `vocab_to_int`\n",
    " - Convert words not in the vocabulary, to the `<UNK>` word id."
   ]
  },
  {
   "cell_type": "code",
   "execution_count": 20,
   "metadata": {
    "collapsed": false
   },
   "outputs": [
    {
     "name": "stdout",
     "output_type": "stream",
     "text": [
      "Tests Passed\n"
     ]
    }
   ],
   "source": [
    "def sentence_to_seq(sentence, vocab_to_int):\n",
    "    \"\"\"\n",
    "    Convert a sentence to a sequence of ids\n",
    "    :param sentence: String\n",
    "    :param vocab_to_int: Dictionary to go from the words to an id\n",
    "    :return: List of word ids\n",
    "    \"\"\"\n",
    "    # TODO: Implement Function\n",
    "    words = sentence.lower().split()\n",
    "    word_ids = [vocab_to_int[word] if word in vocab_to_int.keys() else vocab_to_int['<UNK>'] for word in words ]\n",
    "    return word_ids\n",
    "\n",
    "\n",
    "\"\"\"\n",
    "DON'T MODIFY ANYTHING IN THIS CELL THAT IS BELOW THIS LINE\n",
    "\"\"\"\n",
    "tests.test_sentence_to_seq(sentence_to_seq)"
   ]
  },
  {
   "cell_type": "markdown",
   "metadata": {},
   "source": [
    "## Translate\n",
    "This will translate `translate_sentence` from English to French."
   ]
  },
  {
   "cell_type": "code",
   "execution_count": 21,
   "metadata": {
    "collapsed": false
   },
   "outputs": [
    {
     "name": "stdout",
     "output_type": "stream",
     "text": [
      "INFO:tensorflow:Restoring parameters from checkpoints/dev\n",
      "Input\n",
      "  Word Ids:      [115, 202, 203, 177, 174, 225, 39]\n",
      "  English Words: ['he', 'saw', 'a', 'old', 'yellow', 'truck', '.']\n",
      "\n",
      "Prediction\n",
      "  Word Ids:      [347, 343, 183, 269, 333, 172, 271, 194, 1]\n",
      "  French Words: il a vu un vieux camion jaune . <EOS>\n"
     ]
    }
   ],
   "source": [
    "translate_sentence = 'he saw a old yellow truck .'\n",
    "\n",
    "\n",
    "\"\"\"\n",
    "DON'T MODIFY ANYTHING IN THIS CELL\n",
    "\"\"\"\n",
    "translate_sentence = sentence_to_seq(translate_sentence, source_vocab_to_int)\n",
    "\n",
    "loaded_graph = tf.Graph()\n",
    "with tf.Session(graph=loaded_graph) as sess:\n",
    "    # Load saved model\n",
    "    loader = tf.train.import_meta_graph(load_path + '.meta')\n",
    "    loader.restore(sess, load_path)\n",
    "\n",
    "    input_data = loaded_graph.get_tensor_by_name('input:0')\n",
    "    logits = loaded_graph.get_tensor_by_name('predictions:0')\n",
    "    target_sequence_length = loaded_graph.get_tensor_by_name('target_sequence_length:0')\n",
    "    source_sequence_length = loaded_graph.get_tensor_by_name('source_sequence_length:0')\n",
    "    keep_prob = loaded_graph.get_tensor_by_name('keep_prob:0')\n",
    "\n",
    "    translate_logits = sess.run(logits, {input_data: [translate_sentence]*batch_size,\n",
    "                                         target_sequence_length: [len(translate_sentence)*2]*batch_size,\n",
    "                                         source_sequence_length: [len(translate_sentence)]*batch_size,\n",
    "                                         keep_prob: 1.0})[0]\n",
    "\n",
    "print('Input')\n",
    "print('  Word Ids:      {}'.format([i for i in translate_sentence]))\n",
    "print('  English Words: {}'.format([source_int_to_vocab[i] for i in translate_sentence]))\n",
    "\n",
    "print('\\nPrediction')\n",
    "print('  Word Ids:      {}'.format([i for i in translate_logits]))\n",
    "print('  French Words: {}'.format(\" \".join([target_int_to_vocab[i] for i in translate_logits])))\n"
   ]
  },
  {
   "cell_type": "markdown",
   "metadata": {},
   "source": [
    "## Imperfect Translation\n",
    "You might notice that some sentences translate better than others.  Since the dataset you're using only has a vocabulary of 227 English words of the thousands that you use, you're only going to see good results using these words.  For this project, you don't need a perfect translation. However, if you want to create a better translation model, you'll need better data.\n",
    "\n",
    "You can train on the [WMT10 French-English corpus](http://www.statmt.org/wmt10/training-giga-fren.tar).  This dataset has more vocabulary and richer in topics discussed.  However, this will take you days to train, so make sure you've a GPU and the neural network is performing well on dataset we provided.  Just make sure you play with the WMT10 corpus after you've submitted this project.\n",
    "## Submitting This Project\n",
    "When submitting this project, make sure to run all the cells before saving the notebook. Save the notebook file as \"dlnd_language_translation.ipynb\" and save it as a HTML file under \"File\" -> \"Download as\". Include the \"helper.py\" and \"problem_unittests.py\" files in your submission."
   ]
  },
  {
   "cell_type": "code",
   "execution_count": null,
   "metadata": {
    "collapsed": true
   },
   "outputs": [],
   "source": []
  },
  {
   "cell_type": "code",
   "execution_count": null,
   "metadata": {
    "collapsed": true
   },
   "outputs": [],
   "source": []
  },
  {
   "cell_type": "code",
   "execution_count": null,
   "metadata": {
    "collapsed": true
   },
   "outputs": [],
   "source": []
  },
  {
   "cell_type": "code",
   "execution_count": null,
   "metadata": {
    "collapsed": true
   },
   "outputs": [],
   "source": []
  }
 ],
 "metadata": {
  "anaconda-cloud": {},
  "kernelspec": {
   "display_name": "Python 3",
   "language": "python",
   "name": "python3"
  },
  "language_info": {
   "codemirror_mode": {
    "name": "ipython",
    "version": 3
   },
   "file_extension": ".py",
   "mimetype": "text/x-python",
   "name": "python",
   "nbconvert_exporter": "python",
   "pygments_lexer": "ipython3",
   "version": "3.6.2"
  }
 },
 "nbformat": 4,
 "nbformat_minor": 1
}
